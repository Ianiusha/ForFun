{
 "cells": [
  {
   "cell_type": "markdown",
   "metadata": {},
   "source": [
    "#  Helper functions for Wine tasting Notebook\n",
    "\n",
    "#### author: A. Tomberg\n",
    "#### date: 04/12/2019"
   ]
  },
  {
   "cell_type": "code",
   "execution_count": null,
   "metadata": {},
   "outputs": [],
   "source": [
    "import string\n",
    "import collections\n",
    "\n",
    "import nltk\n",
    "from nltk import word_tokenize\n",
    "from nltk.stem import PorterStemmer\n",
    "from nltk.corpus import stopwords\n",
    "from nltk import FreqDist\n",
    "\n",
    "from sklearn.cluster import KMeans\n",
    "from sklearn.feature_extraction.text import TfidfVectorizer\n",
    "from sklearn.decomposition import TruncatedSVD\n",
    "from sklearn.preprocessing import Normalizer\n",
    "from sklearn.pipeline import make_pipeline\n",
    "from sklearn.cluster import KMeans, MiniBatchKMeans\n",
    "from sklearn.metrics.pairwise import cosine_similarity\n",
    "from sklearn.decomposition import PCA\n",
    "from sklearn.manifold import TSNE\n",
    "import sklearn_recommender as skr\n",
    "from sklearn import metrics\n",
    "from pprint import pprint\n",
    "\n",
    "import pandas as pd\n",
    "import seaborn as sns\n",
    "import matplotlib.pyplot as plt\n",
    "%matplotlib inline\n",
    "\n",
    "from wordcloud import WordCloud, STOPWORDS, ImageColorGenerator\n",
    "\n",
    "\n",
    "from joblib import dump, load"
   ]
  },
  {
   "cell_type": "code",
   "execution_count": null,
   "metadata": {},
   "outputs": [],
   "source": [
    "def plot_frequency_of_occurence(df, col):\n",
    "    \n",
    "    s2=df[col]\n",
    "    prob = s2.value_counts(normalize=True)\n",
    "    threshold = 0.01\n",
    "    mask = prob > threshold\n",
    "    tail_prob = prob.loc[~mask].sum()\n",
    "    prob = prob.loc[mask]\n",
    "    prob['other'] = tail_prob\n",
    "    prob = prob.to_frame()\n",
    "    prob = prob.rename(columns={col: \"frequency\"}) \n",
    "\n",
    "    plt.figure(figsize=(10, 10))\n",
    "    plt.title('Showing % of occurence in '+col)\n",
    "    sns.barplot(y=prob.index, x='frequency', data = prob, palette=\"Reds_d\");\n",
    "    return"
   ]
  },
  {
   "cell_type": "code",
   "execution_count": null,
   "metadata": {},
   "outputs": [],
   "source": [
    "def parse_decription(descr_text):\n",
    "    # split into words\n",
    "    tokens = word_tokenize(descr_text)\n",
    "\n",
    "    # convert to lower case\n",
    "    tokens = [w.lower() for w in tokens]\n",
    "\n",
    "    # remove punctuation from each word\n",
    "    table = str.maketrans('', '', string.punctuation)\n",
    "    stripped = [w.translate(table) for w in tokens]\n",
    "\n",
    "    # remove remaining tokens that are not alphabetic\n",
    "    words = [word for word in stripped if word.isalpha()]\n",
    "\n",
    "    # filter out stop words\n",
    "    stop_words = set(stopwords.words('english'))\n",
    "    stop_words.update([\"drink\", \"now\", \"wine\", \"flavor\", \"flavors\"])\n",
    "    words = [w for w in words if not w in stop_words]\n",
    "\n",
    "    #print(words[:100])\n",
    "\n",
    "    porter = PorterStemmer()\n",
    "    stemmed = [porter.stem(word) for word in words]\n",
    "\n",
    "    #print(stemmed[:100])\n",
    "    \n",
    "    return stemmed"
   ]
  },
  {
   "cell_type": "code",
   "execution_count": null,
   "metadata": {},
   "outputs": [],
   "source": [
    "def plot_freq_words(df, col, how_many = 10, title = None, size = (10,10)):\n",
    "    \n",
    "    l = list(df[col])\n",
    "    flat_list = [item for sublist in l for item in sublist]\n",
    "    freq = FreqDist(flat_list)\n",
    "\n",
    "    most_frequent_words = pd.DataFrame(freq.most_common(how_many), columns =['word', 'freq'])\n",
    "    \n",
    "    sns.set(style=\"whitegrid\")\n",
    "    plt.figure(figsize=size)\n",
    "    plt.title(title)\n",
    "    sns.barplot(x=\"freq\", y=\"word\", data=most_frequent_words, palette=\"Blues_d\");\n",
    "\n",
    "    return most_frequent_words"
   ]
  },
  {
   "cell_type": "code",
   "execution_count": null,
   "metadata": {},
   "outputs": [],
   "source": [
    "def rem_words(querywords):\n",
    "    unwanted_words = ['wine']\n",
    "    return [word for word in querywords if word not in unwanted_words]\n",
    "\n",
    "#wine_data['parsed_descr']  = wine_data['parsed_descr'].apply(rem_words)"
   ]
  },
  {
   "cell_type": "code",
   "execution_count": null,
   "metadata": {},
   "outputs": [],
   "source": [
    "def reduce_dimentionality(X, n_components = 3):\n",
    "    \n",
    "    print(\"Performing dimensionality reduction using LSA\")\n",
    "\n",
    "    # Vectorizer results are normalized, which makes KMeans behave as\n",
    "    # spherical k-means for better results. Since LSA/SVD results are\n",
    "    # not normalized, we have to redo the normalization.\n",
    "    svd = TruncatedSVD(n_components)\n",
    "    normalizer = Normalizer(copy=False)\n",
    "    lsa = make_pipeline(svd, normalizer)\n",
    "\n",
    "    X = lsa.fit_transform(X)\n",
    "\n",
    "    explained_variance = svd.explained_variance_ratio_.sum()\n",
    "    print(\"Explained variance of the SVD step: {}%\".format(\n",
    "        int(explained_variance * 100)))\n",
    "    \n",
    "    return X"
   ]
  },
  {
   "cell_type": "code",
   "execution_count": null,
   "metadata": {},
   "outputs": [],
   "source": [
    "def create_clusters_from_dataframe(df, number_of_clusters = 1):\n",
    "    list_of_clusters = list()\n",
    "    \n",
    "    for i in range(number_of_clusters):\n",
    "            #print(i)\n",
    "            cluster = df.loc[df['cluster'] == i] \n",
    "            cluster = cluster.reset_index()\n",
    "            cols = [col for col in cluster.columns if not(col.startswith('Unnamed'))]\n",
    "            cluster=cluster[cols]\n",
    "            cluster = cluster.rename(columns={\"index\": \"original_index\"})\n",
    "                               \n",
    "            list_of_clusters.append(cluster)\n",
    "\n",
    "    print('I created '+ str(len(list_of_clusters)) + ' clusters.') \n",
    "    return list_of_clusters"
   ]
  },
  {
   "cell_type": "code",
   "execution_count": null,
   "metadata": {},
   "outputs": [],
   "source": [
    "def draw_word_cloud(text):\n",
    "\n",
    "    wordcloud = WordCloud(max_words=50, background_color=\"white\").generate(text)\n",
    "\n",
    "    plt.imshow(wordcloud, interpolation='bilinear')\n",
    "    plt.axis(\"off\")\n",
    "    plt.show()\n",
    "    \n",
    "    return"
   ]
  },
  {
   "cell_type": "code",
   "execution_count": null,
   "metadata": {},
   "outputs": [],
   "source": [
    "def get_index_from_title(search_title,df,clusters_list):\n",
    "        \n",
    "    try:\n",
    "        idx_in_df = df[df.title.str.contains(search_title)].index.values[0]\n",
    "        \n",
    "    except:\n",
    "        print('Cannot find this name in wine titles.')\n",
    "        return (-1, -1, -1)\n",
    "        \n",
    "    which_cluster = df.loc[idx_in_df, 'cluster']\n",
    "    c = clusters_list[which_cluster]\n",
    "    \n",
    "    idx =c[c.original_index == idx_in_df].index.values[0]\n",
    "    #print(idx)\n",
    "    \n",
    "    return (idx_in_df, which_cluster, idx)"
   ]
  },
  {
   "cell_type": "code",
   "execution_count": null,
   "metadata": {},
   "outputs": [],
   "source": [
    "def plot_variety_in_cluster(cluster, n = 20, title = None):\n",
    "\n",
    "    variety_counts = (cluster['variety'].value_counts()[:n])\n",
    "    variety_counts = variety_counts.to_frame()\n",
    "    variety_counts = variety_counts.rename(columns={\"variety\": \"frequency\"}) \n",
    "    #display(variety_counts)\n",
    "    plt.figure(figsize=(10, 10))\n",
    "    plt.title(title)\n",
    "    sns.barplot(y=variety_counts.index, x='frequency', data = variety_counts, palette=\"Greens_d\");\n",
    "    \n",
    "    return"
   ]
  }
 ],
 "metadata": {
  "kernelspec": {
   "display_name": "Python 3",
   "language": "python",
   "name": "python3"
  },
  "language_info": {
   "codemirror_mode": {
    "name": "ipython",
    "version": 3
   },
   "file_extension": ".py",
   "mimetype": "text/x-python",
   "name": "python",
   "nbconvert_exporter": "python",
   "pygments_lexer": "ipython3",
   "version": "3.7.5"
  }
 },
 "nbformat": 4,
 "nbformat_minor": 2
}
