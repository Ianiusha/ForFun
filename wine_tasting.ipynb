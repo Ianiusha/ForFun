{
 "cells": [
  {
   "cell_type": "markdown",
   "metadata": {},
   "source": [
    "# Wine tasting Notebook\n",
    "\n",
    "#### author: A. Tomberg\n",
    "#### date: 04/12/2019\n",
    "##### In this notebook, we will analyze a set of wines, pulled from Kaggle website (https://www.kaggle.com/zynicide/wine-reviews). We will look at how the description from a sommalier can be used to cluster wines by similar features, and use these cluster to recommend wines that you may like based on a selected example."
   ]
  },
  {
   "cell_type": "code",
   "execution_count": 1,
   "metadata": {},
   "outputs": [],
   "source": [
    "import string\n",
    "import collections\n",
    "\n",
    "import nltk\n",
    "from nltk import word_tokenize\n",
    "from nltk.stem import PorterStemmer\n",
    "from nltk.corpus import stopwords\n",
    "from nltk import FreqDist\n",
    "\n",
    "from sklearn.cluster import KMeans\n",
    "from sklearn.feature_extraction.text import TfidfVectorizer\n",
    "from sklearn.feature_extraction.text import CountVectorizer\n",
    "from sklearn.decomposition import TruncatedSVD\n",
    "from sklearn.preprocessing import Normalizer\n",
    "from sklearn.pipeline import make_pipeline\n",
    "from sklearn.cluster import KMeans, MiniBatchKMeans\n",
    "from sklearn.metrics.pairwise import cosine_similarity\n",
    "\n",
    "from sklearn.decomposition import PCA\n",
    "from sklearn.manifold import TSNE\n",
    "from sklearn.metrics import silhouette_score\n",
    "from sklearn import metrics\n",
    "from pprint import pprint\n",
    "\n",
    "import pandas as pd\n",
    "import seaborn as sns\n",
    "import matplotlib.pyplot as plt\n",
    "%matplotlib inline\n",
    "\n",
    "from wordcloud import WordCloud, STOPWORDS, ImageColorGenerator\n",
    "\n",
    "#nltk.download('stopwords')\n",
    "#nltk.download('punkt')\n",
    "\n",
    "from joblib import dump, load"
   ]
  },
  {
   "cell_type": "code",
   "execution_count": 37,
   "metadata": {},
   "outputs": [],
   "source": [
    "%run my_functions.ipynb"
   ]
  },
  {
   "cell_type": "code",
   "execution_count": null,
   "metadata": {},
   "outputs": [],
   "source": [
    "wine_data = pd.read_csv('winemag-data-130k-v2.csv/winemag-data-130k-v2.csv')\n",
    "wine_data.info()"
   ]
  },
  {
   "cell_type": "code",
   "execution_count": null,
   "metadata": {},
   "outputs": [],
   "source": [
    "wine_data.describe()"
   ]
  },
  {
   "cell_type": "code",
   "execution_count": null,
   "metadata": {},
   "outputs": [],
   "source": [
    "wine_data.head()"
   ]
  },
  {
   "cell_type": "code",
   "execution_count": null,
   "metadata": {},
   "outputs": [],
   "source": [
    "# Plot what kind of wines are found in the set\n",
    "# N.B. expects 1 word per row in selected column\n",
    "\n",
    "plot_frequency_of_occurence(wine_data, 'variety')"
   ]
  },
  {
   "cell_type": "code",
   "execution_count": null,
   "metadata": {},
   "outputs": [],
   "source": [
    "wine_data['parsed_descr'] = wine_data['description'].apply(parse_decription)"
   ]
  },
  {
   "cell_type": "code",
   "execution_count": null,
   "metadata": {},
   "outputs": [],
   "source": [
    "wine_data.to_csv(r'parsed_data.csv')"
   ]
  },
  {
   "cell_type": "code",
   "execution_count": null,
   "metadata": {},
   "outputs": [],
   "source": [
    "wine_data = pd.read_csv('parsed_data.csv')"
   ]
  },
  {
   "cell_type": "code",
   "execution_count": null,
   "metadata": {},
   "outputs": [],
   "source": [
    "m = plot_freq_words(wine_data, 'parsed_descr', how_many = 50)"
   ]
  },
  {
   "cell_type": "code",
   "execution_count": null,
   "metadata": {},
   "outputs": [],
   "source": [
    "# vectorize the words found in the descriptions of wines\n",
    "\n",
    "# 1) define words that you don't want to use:\n",
    "stop_words = set(stopwords.words('english'))\n",
    "stop_words.update([\"drink\", \"now\", \"wine\", \"flavor\", \"flavors\"])\n"
   ]
  },
  {
   "cell_type": "code",
   "execution_count": null,
   "metadata": {},
   "outputs": [],
   "source": [
    "# 2) create a vector representation of descriptions\n",
    "vectorizer = TfidfVectorizer(lowercase=True, tokenizer=parse_decription, stop_words=stop_words, max_df=50000, min_df=500, max_features=None, analyzer='word')\n",
    "tfidf_model = vectorizer.fit_transform(wine_data['description'])\n"
   ]
  },
  {
   "cell_type": "code",
   "execution_count": null,
   "metadata": {},
   "outputs": [],
   "source": [
    "# save vectorizer for later\n",
    "dump(tfidf_model, 'tfidf_model.joblib') "
   ]
  },
  {
   "cell_type": "code",
   "execution_count": null,
   "metadata": {},
   "outputs": [],
   "source": [
    "# load saved vectorizer\n",
    "tfidf_model = load('tfidf_model.joblib') \n",
    "\n",
    "print(\"n_samples: %d, n_features: %d\" % tfidf_model.shape)"
   ]
  },
  {
   "cell_type": "code",
   "execution_count": null,
   "metadata": {},
   "outputs": [],
   "source": [
    "# Do the actual clustering\n",
    "\n",
    "do_mini_batches = True\n",
    "how_many_clusters = 6\n",
    "\n",
    "\n",
    "if do_mini_batches:\n",
    "    km = MiniBatchKMeans(n_clusters=how_many_clusters, init='k-means++', n_init=100,\n",
    "                         init_size=1000, batch_size=1000)\n",
    "else:\n",
    "    km = KMeans(n_clusters=how_many_clusters, init='k-means++', max_iter=100, n_init=10)\n",
    "\n",
    "print(\"Clustering data with %s\" % km)\n",
    "km.fit(tfidf_model);"
   ]
  },
  {
   "cell_type": "code",
   "execution_count": null,
   "metadata": {},
   "outputs": [],
   "source": [
    "silhouette_score(tfidf_model, km.labels_, sample_size = 10000)"
   ]
  },
  {
   "cell_type": "code",
   "execution_count": null,
   "metadata": {},
   "outputs": [],
   "source": [
    "dump(km, 'wine_kmeans6.joblib') "
   ]
  },
  {
   "cell_type": "code",
   "execution_count": null,
   "metadata": {},
   "outputs": [],
   "source": [
    "km=load('wine_kmeans6.joblib') "
   ]
  },
  {
   "cell_type": "code",
   "execution_count": null,
   "metadata": {},
   "outputs": [],
   "source": [
    "# add a cluster column to the wine dataset:\n",
    "\n",
    "wine_data[\"cluster\"] = \"\"\n",
    "\n",
    "for idx, label in enumerate(km.labels_):\n",
    "    wine_data.at[idx,\"cluster\"] = label"
   ]
  },
  {
   "cell_type": "code",
   "execution_count": null,
   "metadata": {},
   "outputs": [],
   "source": [
    "wine_data.head(10)"
   ]
  },
  {
   "cell_type": "code",
   "execution_count": null,
   "metadata": {},
   "outputs": [],
   "source": [
    "my_clusters = create_clusters_from_dataframe(wine_data, number_of_clusters = 5)"
   ]
  },
  {
   "cell_type": "code",
   "execution_count": null,
   "metadata": {},
   "outputs": [],
   "source": [
    "# let's look at how big the clusters are\n",
    "\n",
    "sizes = [c.shape[0] for c in my_clusters]\n",
    "labels = ['cluster_'+str(i) for i in range(len(my_clusters))]\n",
    "fig1, ax1 = plt.subplots()\n",
    "ax1.pie(sizes, labels=labels, autopct='%1.1f%%', shadow=False)\n",
    "ax1.axis('equal')\n",
    "plt.show()"
   ]
  },
  {
   "cell_type": "code",
   "execution_count": null,
   "metadata": {
    "scrolled": false
   },
   "outputs": [],
   "source": [
    "# for each cluster, which words are the most frequent? \n",
    "most_frequent_words = list()\n",
    "\n",
    "i = 0\n",
    "for c in my_clusters : \n",
    "    most_frequent_words.append(plot_freq_words(c, 'parsed_descr', how_many = 20, size = (10,8), \\\n",
    "                    title = 'Plotting frequency of occurence for cluster '+ str(i) ))\n",
    "    i = i+1"
   ]
  },
  {
   "cell_type": "code",
   "execution_count": null,
   "metadata": {},
   "outputs": [],
   "source": [
    "# Create and generate a word cloud image:\n",
    "\n",
    "for i in range(len(my_clusters)):\n",
    "    text = \" \".join(list(most_frequent_words[i].word))\n",
    "    print('CLUSTER '+str(i))\n",
    "    draw_word_cloud(text)"
   ]
  },
  {
   "cell_type": "code",
   "execution_count": null,
   "metadata": {
    "scrolled": false
   },
   "outputs": [],
   "source": [
    "#which variety is the most frequent? \n",
    "\n",
    "i = 0\n",
    "for c in my_clusters : \n",
    "    (plot_variety_in_cluster(c, n = 20, \\\n",
    "                    title = 'Plotting variety for cluster '+ str(i) ))\n",
    "    i = i+1\n"
   ]
  },
  {
   "cell_type": "code",
   "execution_count": null,
   "metadata": {},
   "outputs": [],
   "source": [
    "wine_data.to_csv(r'clustered_data.csv')"
   ]
  },
  {
   "cell_type": "markdown",
   "metadata": {},
   "source": [
    "### NOW LET'S SEE WHAT YOU LIKE  :)"
   ]
  },
  {
   "cell_type": "markdown",
   "metadata": {},
   "source": [
    "We're going to vectorize the descriptions in each cluster, then compute a similarity matrix. Using this matrix, we can find nearest neighbours to a selected wine, and be able to recommend another wine to try based on preference."
   ]
  },
  {
   "cell_type": "code",
   "execution_count": 17,
   "metadata": {},
   "outputs": [
    {
     "name": "stdout",
     "output_type": "stream",
     "text": [
      "I created 5 clusters.\n"
     ]
    }
   ],
   "source": [
    "# load clusters from file\n",
    "wine_data = pd.read_csv('clustered_data.csv')\n",
    "my_clusters = create_clusters_from_dataframe(wine_data, number_of_clusters = 5)"
   ]
  },
  {
   "cell_type": "code",
   "execution_count": null,
   "metadata": {},
   "outputs": [],
   "source": [
    "# 1) define words that you don't want to use:\n",
    "stop_words = set(stopwords.words('english'))\n",
    "stop_words.update([\"drink\", \"now\", \"wine\", \"flavor\", \"flavors\"])\n",
    "\n",
    "# 2) vectorze using counts\n",
    "vectorizer = CountVectorizer(lowercase=True, tokenizer=parse_decription, stop_words=stop_words, analyzer='word', max_features=100)"
   ]
  },
  {
   "cell_type": "code",
   "execution_count": null,
   "metadata": {},
   "outputs": [],
   "source": [
    "vectorizers = list()\n",
    "\n",
    "count = 0\n",
    "for c in my_clusters:\n",
    "    tfidf = vectorizer.fit_transform(c.description)\n",
    "    print('Cluster ', count, \" n_samples: %d, n_features: %d\" % tfidf.shape)\n",
    "    vectorizers.append(tfidf)\n",
    "    count = count+1\n"
   ]
  },
  {
   "cell_type": "code",
   "execution_count": null,
   "metadata": {},
   "outputs": [],
   "source": [
    "# save vectorizers for later\n",
    "count = 0\n",
    "for v in vectorizers:\n",
    "    dump(v, 'vectorizer_'+str(count)+'.joblib') \n",
    "    count = count+1"
   ]
  },
  {
   "cell_type": "code",
   "execution_count": 5,
   "metadata": {},
   "outputs": [],
   "source": [
    "# load saved vectorizers\n",
    "\n",
    "vectorizers = list()\n",
    "\n",
    "for c in range(len(my_clusters)):\n",
    "    vectorizers.append(load('vectorizer_'+str(c)+'.joblib')) \n",
    "    "
   ]
  },
  {
   "cell_type": "code",
   "execution_count": 6,
   "metadata": {},
   "outputs": [],
   "source": [
    "# compute similarity matrices for each cluster\n",
    "similarity_scores = list()\n",
    "for v in vectorizers:\n",
    "    similarity_scores.append(cosine_similarity(v.toarray()))\n"
   ]
  },
  {
   "cell_type": "code",
   "execution_count": 38,
   "metadata": {},
   "outputs": [],
   "source": [
    "# finds the first index of the wine wiht search found in title    \n",
    "wine_tag = 'Stoneleigh'\n",
    "wine_variety = 'Blanc'\n",
    "\n",
    "idx_in_data, which_cluster, idx = get_index_from_title(wine_tag, wine_variety, wine_data, my_clusters)\n",
    "\n",
    "#print(wine_data[wine_data.title.str.contains('Moscato')])"
   ]
  },
  {
   "cell_type": "code",
   "execution_count": 36,
   "metadata": {},
   "outputs": [
    {
     "name": "stdout",
     "output_type": "stream",
     "text": [
      "Top 5 similar movies to Stoneleigh & Blanc are:\n",
      "\n"
     ]
    },
    {
     "data": {
      "text/html": [
       "<div>\n",
       "<style scoped>\n",
       "    .dataframe tbody tr th:only-of-type {\n",
       "        vertical-align: middle;\n",
       "    }\n",
       "\n",
       "    .dataframe tbody tr th {\n",
       "        vertical-align: top;\n",
       "    }\n",
       "\n",
       "    .dataframe thead th {\n",
       "        text-align: right;\n",
       "    }\n",
       "</style>\n",
       "<table border=\"1\" class=\"dataframe\">\n",
       "  <thead>\n",
       "    <tr style=\"text-align: right;\">\n",
       "      <th></th>\n",
       "      <th>title</th>\n",
       "      <th>country</th>\n",
       "      <th>variety</th>\n",
       "      <th>description</th>\n",
       "      <th>price</th>\n",
       "    </tr>\n",
       "  </thead>\n",
       "  <tbody>\n",
       "    <tr>\n",
       "      <th>31</th>\n",
       "      <td>Stoneleigh 2008 Sauvignon Blanc (Marlborough)</td>\n",
       "      <td>New Zealand</td>\n",
       "      <td>Sauvignon Blanc</td>\n",
       "      <td>The Stoneleigh style traditionally favors ripe...</td>\n",
       "      <td>19.0</td>\n",
       "    </tr>\n",
       "    <tr>\n",
       "      <th>9103</th>\n",
       "      <td>Marqués de la Concordia 2012 MM Reserva de la ...</td>\n",
       "      <td>Spain</td>\n",
       "      <td>Sparkling Blend</td>\n",
       "      <td>This round yet direct Cava offers stone-fruit ...</td>\n",
       "      <td>15.0</td>\n",
       "    </tr>\n",
       "    <tr>\n",
       "      <th>12764</th>\n",
       "      <td>Siren Song 2013 The Muse Brut Blanc de Noirs M...</td>\n",
       "      <td>US</td>\n",
       "      <td>Sparkling Blend</td>\n",
       "      <td>Aromas of brioche, strawberry and citrus are f...</td>\n",
       "      <td>45.0</td>\n",
       "    </tr>\n",
       "    <tr>\n",
       "      <th>1720</th>\n",
       "      <td>Terrapura 2016 Sauvignon Blanc (Curicó Valley)</td>\n",
       "      <td>Chile</td>\n",
       "      <td>Sauvignon Blanc</td>\n",
       "      <td>Light simple citrus aromas fall halfway betwee...</td>\n",
       "      <td>11.0</td>\n",
       "    </tr>\n",
       "    <tr>\n",
       "      <th>5169</th>\n",
       "      <td>Terrapura 2016 Sauvignon Blanc (Curicó Valley)</td>\n",
       "      <td>Chile</td>\n",
       "      <td>Sauvignon Blanc</td>\n",
       "      <td>Light simple citrus aromas fall halfway betwee...</td>\n",
       "      <td>11.0</td>\n",
       "    </tr>\n",
       "    <tr>\n",
       "      <th>18036</th>\n",
       "      <td>Hatzimichalis 2009 Estate Hatzimichalis Chardo...</td>\n",
       "      <td>Greece</td>\n",
       "      <td>Chardonnay</td>\n",
       "      <td>Buttery spice and fresh citrus aromas lead thi...</td>\n",
       "      <td>22.0</td>\n",
       "    </tr>\n",
       "  </tbody>\n",
       "</table>\n",
       "</div>"
      ],
      "text/plain": [
       "                                                   title      country  \\\n",
       "31         Stoneleigh 2008 Sauvignon Blanc (Marlborough)  New Zealand   \n",
       "9103   Marqués de la Concordia 2012 MM Reserva de la ...        Spain   \n",
       "12764  Siren Song 2013 The Muse Brut Blanc de Noirs M...           US   \n",
       "1720      Terrapura 2016 Sauvignon Blanc (Curicó Valley)        Chile   \n",
       "5169      Terrapura 2016 Sauvignon Blanc (Curicó Valley)        Chile   \n",
       "18036  Hatzimichalis 2009 Estate Hatzimichalis Chardo...       Greece   \n",
       "\n",
       "               variety                                        description  \\\n",
       "31     Sauvignon Blanc  The Stoneleigh style traditionally favors ripe...   \n",
       "9103   Sparkling Blend  This round yet direct Cava offers stone-fruit ...   \n",
       "12764  Sparkling Blend  Aromas of brioche, strawberry and citrus are f...   \n",
       "1720   Sauvignon Blanc  Light simple citrus aromas fall halfway betwee...   \n",
       "5169   Sauvignon Blanc  Light simple citrus aromas fall halfway betwee...   \n",
       "18036       Chardonnay  Buttery spice and fresh citrus aromas lead thi...   \n",
       "\n",
       "       price  \n",
       "31      19.0  \n",
       "9103    15.0  \n",
       "12764   45.0  \n",
       "1720    11.0  \n",
       "5169    11.0  \n",
       "18036   22.0  "
      ]
     },
     "execution_count": 36,
     "metadata": {},
     "output_type": "execute_result"
    }
   ],
   "source": [
    "\n",
    "similar = list(enumerate(similarity_scores[which_cluster][idx])) #accessing the row corresponding to given wine to find all the similarity scores, enumerating over it\n",
    "sorted_similar = sorted(similar,key=lambda x:x[1],reverse=True)[1:]\n",
    "\n",
    "print(\"Top 5 similar movies to \"+wine_tag+\" & \" + wine_variety+\" are:\\n\")\n",
    "\n",
    "best_matches = [idx]\n",
    "for element in sorted_similar[:5]:\n",
    "    best_matches.append(element[0])\n",
    "    \n",
    "best = (my_clusters[which_cluster]).loc[best_matches]\n",
    "best = best[['title', 'country','variety','description', 'price']].copy()\n",
    "\n",
    "best"
   ]
  },
  {
   "cell_type": "markdown",
   "metadata": {},
   "source": [
    "And we're done!"
   ]
  },
  {
   "cell_type": "code",
   "execution_count": null,
   "metadata": {},
   "outputs": [],
   "source": []
  }
 ],
 "metadata": {
  "kernelspec": {
   "display_name": "Python 3",
   "language": "python",
   "name": "python3"
  },
  "language_info": {
   "codemirror_mode": {
    "name": "ipython",
    "version": 3
   },
   "file_extension": ".py",
   "mimetype": "text/x-python",
   "name": "python",
   "nbconvert_exporter": "python",
   "pygments_lexer": "ipython3",
   "version": "3.7.5"
  }
 },
 "nbformat": 4,
 "nbformat_minor": 2
}
